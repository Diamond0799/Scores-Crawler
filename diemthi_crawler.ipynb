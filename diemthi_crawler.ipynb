{
 "metadata": {
  "language_info": {
   "codemirror_mode": {
    "name": "ipython",
    "version": 3
   },
   "file_extension": ".py",
   "mimetype": "text/x-python",
   "name": "python",
   "nbconvert_exporter": "python",
   "pygments_lexer": "ipython3",
   "version": "3.8.10"
  },
  "orig_nbformat": 4,
  "kernelspec": {
   "name": "python3",
   "display_name": "Python 3.8.10 64-bit ('venv': venv)"
  },
  "interpreter": {
   "hash": "3b26ecbddab049571ae007620e6d40bdc2e7f8cd77fe951806bf39a71c0953c8"
  }
 },
 "nbformat": 4,
 "nbformat_minor": 2,
 "cells": [
  {
   "cell_type": "code",
   "execution_count": 1,
   "source": [
    "# Selenium with Google Colab\n",
    "\n",
    "# !apt-get update\n",
    "# !apt install chromium-chromedriver\n",
    "# !cp /usr/lib/chromium-browser/chromedriver /usr/bin\n",
    "# !pip install selenium\n",
    "# # Set options to be headless, ..\n",
    "# from selenium import webdriver\n",
    "# options = webdriver.ChromeOptions()\n",
    "# options.add_argument('--headless')\n",
    "# options.add_argument('--no-sandbox')\n",
    "# options.add_argument('--disable-dev-shm-usage')\n",
    "# browser = webdriver.Chrome('chromedriver',options=options)"
   ],
   "outputs": [],
   "metadata": {}
  },
  {
   "cell_type": "code",
   "execution_count": 2,
   "source": [
    "import pandas as pd\n",
    "import csv\n",
    "import time\n",
    "from selenium import webdriver\n",
    "from time import sleep\n",
    "from selenium.webdriver.common.keys import Keys"
   ],
   "outputs": [],
   "metadata": {}
  },
  {
   "cell_type": "code",
   "execution_count": 3,
   "source": [
    "# # Khoi tao file diemthi_nghean.csv va dat ten cot\n",
    "# with open('./diemthi_nghean.csv', 'w') as file:\n",
    "#     writer = csv.writer(file)\n",
    "#     writer.writerow(['So bao danh', 'Toan', 'Ngu Van', 'Ngoai Ngu', 'Vat Ly', 'Hoa Hoc', 'Sinh Hoc', 'Lich Su', 'Dia Ly', 'GDCD'])"
   ],
   "outputs": [],
   "metadata": {}
  },
  {
   "cell_type": "code",
   "execution_count": 4,
   "source": [
    "# Ham tra ve dong cuoi cua file csv\n",
    "def return_last_line(filepath):    \n",
    "    with open(filepath, 'r') as file:        \n",
    "        for x in file:\n",
    "            pass\n",
    "        return x   \n",
    "# Ham luu data vao file csv\n",
    "def save_data(filepath, data):\n",
    "    with open(filepath, 'a') as file: \n",
    "        writer = csv.writer(file)\n",
    "        writer.writerow(data)\n",
    "\n",
    "# Ham dien vao o va enter\n",
    "def filled(box_location, filled_str):\n",
    "    box_location.send_keys(str(filled_str))\n",
    "    box_location.send_keys(Keys.ENTER)\n",
    "\n",
    "# Ham xoa ki tu trong o \n",
    "def delete(box_location, character_num):\n",
    "    for i in range(character_num):\n",
    "        box_location.send_keys(Keys.BACKSPACE)\n",
    "\n",
    "# Ham crawl data\n",
    "def crawler(begin, end):\n",
    "    # Khai bao bien temporary data\n",
    "    temp = [0] * 10\n",
    "    # Lap tu SBD begin den end\n",
    "    for id_num in list(range(begin, end)):\n",
    "        filled(search_field, id_num)\n",
    "        if id_num == begin:\n",
    "            sleep(1)\n",
    "        sleep(0.3) # Loading\n",
    "\n",
    "        # Kiem tra SBD co ton tai hay khong\n",
    "        if browser.find_elements_by_xpath('/html/body/div[1]/div/section/div/div/div[3]/div/div/div/div[1]/div/div/div/div[1]') == []:\n",
    "            # Xoa SBD va kiem tra lai mot lan nua roi thoat khoi lan lap nay\n",
    "            delete(search_field, len(str(id_num)))\n",
    "            filled(search_field, id_num)\n",
    "            sleep(0.5) # Loading\n",
    "            if browser.find_elements_by_xpath('/html/body/div[1]/div/section/div/div/div[3]/div/div/div/div[1]/div/div/div/div[1]') == []:\n",
    "                temp = [id_num] + [''] * 9\n",
    "                save_data(filepath, temp)\n",
    "                delete(search_field, len(str(id_num)))\n",
    "                sleep(0.1) # Loading \n",
    "            continue\n",
    "\n",
    "        # Kiem tra SBD == id_num, neu khong bang thi load lai cho den khi bang\n",
    "        SBD = browser.find_element_by_css_selector('#nav-home > div > div.info-student > p:nth-child(2)').text[-8:]\n",
    "        while(str(id_num) != SBD):\n",
    "            delete(search_field, len(str(id_num)))\n",
    "            filled(search_field, id_num)\n",
    "            sleep(0.2) # Loading\n",
    "            SBD = browser.find_element_by_css_selector('#nav-home > div > div.info-student > p:nth-child(2)').text[-8:]\n",
    "        \n",
    "        # Luu data vao temp\n",
    "        temp[0] = id_num\n",
    "        for selector_num in list(range(1, 10)):\n",
    "            selector = '#nav-home > div > div.table-responsive > table > tbody > tr:nth-child(3) > td:nth-child({value})'\n",
    "            selector = selector.format(value = str(selector_num))\n",
    "            data = browser.find_element_by_css_selector(selector)\n",
    "            temp[selector_num] = data.text.strip()\n",
    "        # Luu data tu temp vao file csv \n",
    "        save_data(filepath, temp)\n",
    "        print(','.join(list(map(lambda x: str(x), temp))) + ' done!!!')\n",
    "        # Xoa tim kiem\n",
    "        delete(search_field, len(str(id_num)))"
   ],
   "outputs": [],
   "metadata": {}
  },
  {
   "cell_type": "code",
   "execution_count": 5,
   "source": [
    "# Khai bao browser\n",
    "browser = webdriver.Chrome(executable_path='./chromedriver')\n",
    "\n",
    "# CSV filepath\n",
    "filepath = './diemthi_nghean.csv'\n",
    "\n",
    "# Mo url cua trang diem thi \n",
    "url = 'https://diemthi.tuoitre.vn/thpt-2021'\n",
    "browser.get(url)\n",
    "\n",
    "# Tim o dien so bao danh\n",
    "search_field = browser.find_element_by_name('identifyNumber')\n",
    "\n",
    "# Tim begin = SBD cuoi cung trong file csv + 1\n",
    "last_line = return_last_line(filepath)\n",
    "if last_line[0:2] != '29':\n",
    "    begin = 29000001\n",
    "else:\n",
    "    begin = int(last_line[0:8]) + 1\n",
    "\n",
    "# Do duoc end = 29034379\n",
    "end = 29034481\n",
    "\n",
    "# Crawling\n",
    "crawler(begin, end)\n",
    "\n",
    "# Dong trinh duyet\n",
    "browser.close()\n"
   ],
   "outputs": [
    {
     "output_type": "stream",
     "name": "stdout",
     "text": [
      "29034480,7.20,6.25,4.20,,,,2.75,5.50,4.00 done!!!\n"
     ]
    }
   ],
   "metadata": {}
  }
 ]
}